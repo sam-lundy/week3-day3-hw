{
 "cells": [
  {
   "cell_type": "markdown",
   "metadata": {},
   "source": [
    "# Algorithms & Binary Search"
   ]
  },
  {
   "cell_type": "markdown",
   "metadata": {},
   "source": [
    "## Tasks Today:\n",
    " \n",
    "1) <b>In-Place Algorithms</b> <br>\n",
    " &nbsp;&nbsp;&nbsp;&nbsp; a) Syntax <br>\n",
    " &nbsp;&nbsp;&nbsp;&nbsp; a) Out of Place Algorithm <br>\n",
    " &nbsp;&nbsp;&nbsp;&nbsp; b) In-Class Exercise #1 <br>\n",
    "2) <b>Two Pointers</b> <br>\n",
    "3) <b>Linked Lists</b> <br>\n",
    "4) <b>Merge Sort</b> <br>\n",
    " &nbsp;&nbsp;&nbsp;&nbsp; a) Video on Algorithms <br>\n",
    " &nbsp;&nbsp;&nbsp;&nbsp; b) How it Works <br>\n",
    "5) <b>Exercises</b> <br>\n",
    " &nbsp;&nbsp;&nbsp;&nbsp; a) Exercise #1 - Reverse a List in Place Using an In-Place Algorithm <br>\n",
    " &nbsp;&nbsp;&nbsp;&nbsp; b) Exercise #2 - Find Distinct Words <br>\n",
    " &nbsp;&nbsp;&nbsp;&nbsp; c) Exercise #3 - Write a program to implement a Linear Search Algorithm. <br>"
   ]
  },
  {
   "cell_type": "markdown",
   "metadata": {},
   "source": [
    "## In-Place Algorithms"
   ]
  },
  {
   "cell_type": "markdown",
   "metadata": {},
   "source": [
    "#### Syntax"
   ]
  },
  {
   "cell_type": "code",
   "execution_count": 3,
   "metadata": {},
   "outputs": [
    {
     "name": "stdout",
     "output_type": "stream",
     "text": [
      "2676141911360\n",
      "[3, 2, 1]\n",
      "2676141911360\n"
     ]
    }
   ],
   "source": [
    "def swap(alist, x, y, z):\n",
    "    alist[x], alist[y], alist[z] = alist[z], alist[y], alist[x]\n",
    "\n",
    "\n",
    "this_list = [1,2,3]\n",
    "\n",
    "print(id(this_list))\n",
    "swap(this_list, 0,1,2)\n",
    "\n",
    "print(this_list)\n",
    "print(id(this_list))"
   ]
  },
  {
   "cell_type": "markdown",
   "metadata": {},
   "source": [
    "#### Out of Place Algorithm"
   ]
  },
  {
   "cell_type": "code",
   "execution_count": 6,
   "metadata": {},
   "outputs": [
    {
     "name": "stdout",
     "output_type": "stream",
     "text": [
      "2676142316800\n",
      "[3, 2, 1]\n",
      "2676143242880\n"
     ]
    }
   ],
   "source": [
    "\n",
    "def out_swap(alist):\n",
    "    output = []\n",
    "    for number in alist[::-1]:\n",
    "        output.append(number)\n",
    "\n",
    "    return output\n",
    "\n",
    "this_list = [1,2,3]\n",
    "\n",
    "print(id(this_list))\n",
    "this_list = out_swap(this_list)\n",
    "\n",
    "print(this_list)\n",
    "print(id(this_list))"
   ]
  },
  {
   "cell_type": "markdown",
   "metadata": {},
   "source": [
    "#### In-Class Exercise #1 <br>\n",
    "<p>Write a function that takes in four arguments (list, index1, index2, index3), and swaps those three positions in the list passed in.</p>"
   ]
  },
  {
   "cell_type": "code",
   "execution_count": null,
   "metadata": {},
   "outputs": [],
   "source": [
    "l_1 = [10, 4, 3, 8, 4, 2, 6]\n",
    "\n"
   ]
  },
  {
   "cell_type": "markdown",
   "metadata": {},
   "source": [
    "## Two Pointers"
   ]
  },
  {
   "cell_type": "markdown",
   "metadata": {},
   "source": [
    "#### Syntax"
   ]
  },
  {
   "cell_type": "code",
   "execution_count": 8,
   "metadata": {},
   "outputs": [
    {
     "name": "stdout",
     "output_type": "stream",
     "text": [
      "None\n",
      "[10, 9, 8, 7, 6, 5, 4, 3, 2, 1]\n"
     ]
    }
   ],
   "source": [
    "this_list = [1,2,3,4,5,6,7,8,9,10]\n",
    "\n",
    "def twopointerswap(alist):\n",
    "    left = 0\n",
    "    right = len(alist) - 1\n",
    "    while left <= right:\n",
    "        alist[left], alist[right] = alist[right], alist[left]\n",
    "        left += 1\n",
    "        right -= 1\n",
    "\n",
    "print(twopointerswap(this_list))\n",
    "print(this_list)"
   ]
  },
  {
   "cell_type": "markdown",
   "metadata": {},
   "source": [
    "#### Video of Algorithms <br>\n",
    "<p>Watch the video about algorithms.</p>\n",
    "\n",
    "https://www.youtube.com/watch?v=Q9HjeFD62Uk\n",
    "\n",
    "https://www.youtube.com/watch?v=kPRA0W1kECg\n",
    "\n",
    "https://www.youtube.com/watch?v=ZZuD6iUe3Pc"
   ]
  },
  {
   "cell_type": "markdown",
   "metadata": {},
   "source": [
    "# Sorting Algorithms"
   ]
  },
  {
   "cell_type": "markdown",
   "metadata": {},
   "source": [
    "#### Bubble Sort\n",
    "\n",
    "Worst Case: O(n^2) Time - O(1) Space"
   ]
  },
  {
   "cell_type": "code",
   "execution_count": 1,
   "metadata": {},
   "outputs": [
    {
     "name": "stdout",
     "output_type": "stream",
     "text": [
      "1\n",
      "[8, 4, 6, 2, 5, 9, 2]\n",
      "[4, 8, 6, 2, 5, 9, 2]\n",
      "[4, 6, 8, 2, 5, 9, 2]\n",
      "[4, 6, 2, 8, 5, 9, 2]\n",
      "[4, 6, 2, 5, 8, 9, 2]\n",
      "[4, 6, 2, 5, 8, 9, 2]\n",
      "[4, 6, 2, 5, 8, 2, 9]\n",
      "2\n",
      "[4, 6, 2, 5, 8, 2, 9]\n",
      "[4, 6, 2, 5, 8, 2, 9]\n",
      "[4, 2, 6, 5, 8, 2, 9]\n",
      "[4, 2, 5, 6, 8, 2, 9]\n",
      "[4, 2, 5, 6, 8, 2, 9]\n",
      "[4, 2, 5, 6, 2, 8, 9]\n",
      "[4, 2, 5, 6, 2, 8, 9]\n",
      "3\n",
      "[4, 2, 5, 6, 2, 8, 9]\n",
      "[2, 4, 5, 6, 2, 8, 9]\n",
      "[2, 4, 5, 6, 2, 8, 9]\n",
      "[2, 4, 5, 6, 2, 8, 9]\n",
      "[2, 4, 5, 2, 6, 8, 9]\n",
      "[2, 4, 5, 2, 6, 8, 9]\n",
      "[2, 4, 5, 2, 6, 8, 9]\n",
      "4\n",
      "[2, 4, 5, 2, 6, 8, 9]\n",
      "[2, 4, 5, 2, 6, 8, 9]\n",
      "[2, 4, 5, 2, 6, 8, 9]\n",
      "[2, 4, 2, 5, 6, 8, 9]\n",
      "[2, 4, 2, 5, 6, 8, 9]\n",
      "[2, 4, 2, 5, 6, 8, 9]\n",
      "[2, 4, 2, 5, 6, 8, 9]\n",
      "5\n",
      "[2, 4, 2, 5, 6, 8, 9]\n",
      "[2, 4, 2, 5, 6, 8, 9]\n",
      "[2, 2, 4, 5, 6, 8, 9]\n",
      "[2, 2, 4, 5, 6, 8, 9]\n",
      "[2, 2, 4, 5, 6, 8, 9]\n",
      "[2, 2, 4, 5, 6, 8, 9]\n",
      "[2, 2, 4, 5, 6, 8, 9]\n",
      "6\n",
      "[2, 2, 4, 5, 6, 8, 9]\n",
      "[2, 2, 4, 5, 6, 8, 9]\n",
      "[2, 2, 4, 5, 6, 8, 9]\n",
      "[2, 2, 4, 5, 6, 8, 9]\n",
      "[2, 2, 4, 5, 6, 8, 9]\n",
      "[2, 2, 4, 5, 6, 8, 9]\n",
      "[2, 2, 4, 5, 6, 8, 9]\n",
      "[2, 2, 4, 5, 6, 8, 9]\n"
     ]
    }
   ],
   "source": [
    "alist = [8,4,6,2,5,9,2]\n",
    "\n",
    "def swap(alist, x, y):\n",
    "    alist[x], alist[y] = alist[y], alist[x]\n",
    "\n",
    "\n",
    "def bubble(alist):\n",
    "    sorted = False\n",
    "\n",
    "    p = 0\n",
    "    while not sorted:\n",
    "        p+=1\n",
    "        print(p)\n",
    "        sorted = True\n",
    "        for index in range(len(alist)-1):\n",
    "            print(alist)\n",
    "            if alist[index] > alist[index+1]:\n",
    "                swap(alist, index, index+1)\n",
    "                sorted = False\n",
    "        print(alist)\n",
    "\n",
    "    # return alist\n",
    "\n",
    "bubble(alist)\n",
    "\n",
    "print(alist)\n",
    "\n"
   ]
  },
  {
   "cell_type": "markdown",
   "metadata": {},
   "source": [
    "##### Insertion Sort\n",
    "\n",
    "Worst Case: O(n^2) time - O(1)space"
   ]
  },
  {
   "cell_type": "code",
   "execution_count": 13,
   "metadata": {},
   "outputs": [
    {
     "name": "stdout",
     "output_type": "stream",
     "text": [
      "[8]\n",
      "4\n",
      "[8, 4]\n",
      "[4, 8]\n",
      "6\n",
      "[4, 8, 6]\n",
      "[4, 6, 8]\n",
      "2\n",
      "[4, 6, 8, 2]\n",
      "[4, 6, 2, 8]\n",
      "[4, 2, 6, 8]\n",
      "[2, 4, 6, 8]\n",
      "5\n",
      "[2, 4, 6, 8, 5]\n",
      "[2, 4, 6, 5, 8]\n",
      "[2, 4, 5, 6, 8]\n",
      "9\n",
      "[2, 4, 5, 6, 8, 9]\n",
      "2\n",
      "[2, 4, 5, 6, 8, 9, 2]\n",
      "[2, 4, 5, 6, 8, 2, 9]\n",
      "[2, 4, 5, 6, 2, 8, 9]\n",
      "[2, 4, 5, 2, 6, 8, 9]\n",
      "[2, 4, 2, 5, 6, 8, 9]\n",
      "None\n",
      "[2, 2, 4, 5, 6, 8, 9]\n"
     ]
    }
   ],
   "source": [
    "alist = [8,4,6,2,5,9,2]\n",
    "\n",
    "def swap(alist, x, y):\n",
    "    alist[x], alist[y] = alist[y], alist[x]\n",
    "\n",
    "def insertion(alist):\n",
    "    for i in range(1, len(alist)):\n",
    "        p = i\n",
    "        print(alist[:i])\n",
    "        print(alist[i])\n",
    "        while i > 0 and alist[i] < alist[i-1]:\n",
    "            print(alist[:p+1])\n",
    "            swap(alist, i, i-1)\n",
    "            i -= 1\n",
    "\n",
    "\n",
    "print(insertion(alist))\n",
    "print(alist)\n"
   ]
  },
  {
   "cell_type": "markdown",
   "metadata": {},
   "source": [
    "## Merge Sort"
   ]
  },
  {
   "cell_type": "markdown",
   "metadata": {},
   "source": [
    "#### How it Works"
   ]
  },
  {
   "cell_type": "code",
   "execution_count": 18,
   "metadata": {},
   "outputs": [
    {
     "name": "stdout",
     "output_type": "stream",
     "text": [
      "SPLITTING: [8, 4, 6, 2, 5, 9, 2]\n",
      "Left half: [8, 4, 6], right half: [2, 5, 9, 2]\n",
      "SPLITTING: [8, 4, 6]\n",
      "Left half: [8], right half: [4, 6]\n",
      "SPLITTING: [4, 6]\n",
      "Left half: [4], right half: [6]\n",
      "merging left: [4], right: [6]\n",
      "Merged [4, 6]\n",
      "merging left: [8], right: [4, 6]\n",
      "Merged [4, 6, 8]\n",
      "SPLITTING: [2, 5, 9, 2]\n",
      "Left half: [2, 5], right half: [9, 2]\n",
      "SPLITTING: [2, 5]\n",
      "Left half: [2], right half: [5]\n",
      "merging left: [2], right: [5]\n",
      "Merged [2, 5]\n",
      "SPLITTING: [9, 2]\n",
      "Left half: [9], right half: [2]\n",
      "merging left: [9], right: [2]\n",
      "Merged [2, 9]\n",
      "merging left: [2, 5], right: [2, 9]\n",
      "Merged [2, 2, 5, 9]\n",
      "merging left: [4, 6, 8], right: [2, 2, 5, 9]\n",
      "Merged [2, 2, 4, 5, 6, 8, 9]\n",
      "[2, 2, 4, 5, 6, 8, 9]\n"
     ]
    }
   ],
   "source": [
    "alist = [8,4,6,2,5,9,2]\n",
    "\n",
    "def mergeSort(alist):\n",
    "\n",
    "    if len(alist) > 1:\n",
    "        middle = len(alist)// 2\n",
    "        left_half = alist[:middle]\n",
    "        right_half = alist[middle:]\n",
    "        print(f'SPLITTING: {alist}')\n",
    "        print(f'Left half: {left_half}, right half: {right_half}')\n",
    "\n",
    "        mergeSort(left_half)\n",
    "        mergeSort(right_half)\n",
    "            \n",
    "\n",
    "        print(f'merging left: {left_half}, right: {right_half}')\n",
    "        #index\n",
    "        i = 0 #pointer for the left half\n",
    "        j = 0 # pointer for the right half\n",
    "        k = 0 # pointer main list being merged into\n",
    "\n",
    "        #compare the left anf right half until one of them is empty\n",
    "\n",
    "        while i < len(left_half) and j < len(right_half):\n",
    "            if left_half[i] < right_half[j]:\n",
    "                alist[k] = left_half[i]\n",
    "                i += 1\n",
    "            else:\n",
    "                alist[k] = right_half[j]\n",
    "                j += 1\n",
    "            k+=1\n",
    "\n",
    "\n",
    "        #once a list has been emptied\n",
    "        #fill in main list with remain list\n",
    "\n",
    "        while i < len(left_half):\n",
    "            alist[k] = left_half[i]\n",
    "            i+=1\n",
    "            k+=1\n",
    "\n",
    "        while j < len(right_half):\n",
    "            alist[k] = right_half[j]\n",
    "            j+= 1\n",
    "            k+= 1\n",
    "        print(f'Merged {alist}')\n",
    "\n",
    "        return alist\n",
    "\n",
    "\n",
    "print(mergeSort(alist))\n",
    "        \n",
    "\n",
    "\n"
   ]
  },
  {
   "cell_type": "markdown",
   "metadata": {},
   "source": [
    "# Binary Search\n",
    "\n",
    "The Binary Search algorithm works by finding the number in the middle of a given array and comparing it to the target. Given that the array is sorted\n",
    "\n",
    "* The worst case run time for this algorithm is `O(log(n))`"
   ]
  },
  {
   "cell_type": "code",
   "execution_count": 21,
   "metadata": {},
   "outputs": [
    {
     "data": {
      "text/plain": [
       "'Target not in the list'"
      ]
     },
     "execution_count": 21,
     "metadata": {},
     "output_type": "execute_result"
    }
   ],
   "source": [
    "def binarySearch(alist, target):\n",
    "    left = 0\n",
    "    right = len(alist) -1\n",
    "    while left <= right:\n",
    "        middle = (left+right)//2\n",
    "        potential = alist[middle]\n",
    "        if target == potential:\n",
    "            return f'WINNER WINNER CHICKEN DINNER for {target} at the {middle} index'\n",
    "        elif target < potential:\n",
    "            right = middle -1\n",
    "        elif target > potential:\n",
    "            left = middle + 1\n",
    "    return f'Target not in the list'\n",
    "\n",
    "binarySearch([1,5,7,23,29,3,8,58], 400)"
   ]
  },
  {
   "cell_type": "markdown",
   "metadata": {},
   "source": [
    "# Exercises"
   ]
  },
  {
   "cell_type": "markdown",
   "metadata": {},
   "source": [
    "### Exercise #1 <br>\n",
    "<p>Reverse the list below in-place using an in-place algorithm.<br>For extra credit: Reverse the strings at the same time.</p>"
   ]
  },
  {
   "cell_type": "code",
   "execution_count": 9,
   "metadata": {},
   "outputs": [
    {
     "name": "stdout",
     "output_type": "stream",
     "text": [
      "['.', 'sentence', 'a', 'is', 'this']\n"
     ]
    }
   ],
   "source": [
    "words = ['this' , 'is', 'a', 'sentence', '.']\n",
    "\n",
    "words.reverse()\n",
    "print(words)\n",
    "\n"
   ]
  },
  {
   "cell_type": "markdown",
   "metadata": {},
   "source": [
    "### Exercise #2 <br>\n",
    "<p>Create a function that counts how many distinct words are in the string below, then outputs a dictionary with the words as the key and the value as the amount of times that word appears in the string.<br>Should output:<br>{'a': 5,<br>\n",
    " 'abstract': 1,<br>\n",
    " 'an': 3,<br>\n",
    " 'array': 2, ... etc...</p>"
   ]
  },
  {
   "cell_type": "code",
   "execution_count": 19,
   "metadata": {},
   "outputs": [
    {
     "name": "stdout",
     "output_type": "stream",
     "text": [
      "{'in': 1, 'computing': 1, 'a': 5, 'hash': 4, 'table': 2, 'map': 2, 'is': 1, 'data': 2, 'structure': 2, 'which': 2, 'implements': 1, 'an': 3, 'associative': 1, 'array': 2, 'abstract': 1, 'type': 1, 'that': 1, 'can': 2, 'keys': 1, 'to': 2, 'values.': 1, 'uses': 1, 'function': 1, 'compute': 1, 'index': 1, 'into': 1, 'of': 1, 'buckets': 1, 'or': 1, 'slots': 1, 'from': 1, 'the': 1, 'desired': 1, 'value': 1, 'be': 1, 'found': 1}\n"
     ]
    }
   ],
   "source": [
    "\n",
    "a_text = 'In computing, a hash table hash map is a data structure which implements an associative array abstract data type, a structure that can map keys to values. A hash table uses a hash function to compute an index into an array of buckets or slots from which the desired value can be found'\n",
    "\n",
    "#punctuation and casing should not interfer with counts\n",
    "def string_to_dict(a_string):\n",
    "    results = {}\n",
    "    b_string = a_string.replace(\",\", \"\").lower()\n",
    "    for i in b_string.split():\n",
    "        if i in results:\n",
    "            results[i] += 1\n",
    "        else:\n",
    "            results[i] = 1\n",
    "    print(results)\n",
    "    \n",
    "string_to_dict(a_text)\n",
    "\n"
   ]
  },
  {
   "cell_type": "markdown",
   "metadata": {},
   "source": [
    "## Exercise #3\n",
    "\n",
    "Write a program to implement a Linear Search Algorithm. Also in a comment, write the Time Complexity of the following algorithm.\n",
    "\n",
    "#### Hint: Linear Searching will require searching a list for a given number. "
   ]
  },
  {
   "cell_type": "code",
   "execution_count": 30,
   "metadata": {},
   "outputs": [
    {
     "name": "stdout",
     "output_type": "stream",
     "text": [
      "3\n"
     ]
    }
   ],
   "source": [
    "# take in a list and a target and return position of the target!\n",
    "my_list = [7, 2, 0, 1, 8, 4]\n",
    "target = 1\n",
    "length = len(my_list)\n",
    "\n",
    "def linearSearch(a_list, num):\n",
    "    for i in range(length):\n",
    "        if a_list[i] == num:\n",
    "            return i\n",
    "\n",
    "\n",
    "print(linearSearch(my_list, target))"
   ]
  },
  {
   "cell_type": "code",
   "execution_count": null,
   "metadata": {},
   "outputs": [],
   "source": []
  }
 ],
 "metadata": {
  "kernelspec": {
   "display_name": "Python 3.10.8 64-bit (microsoft store)",
   "language": "python",
   "name": "python3"
  },
  "language_info": {
   "codemirror_mode": {
    "name": "ipython",
    "version": 3
   },
   "file_extension": ".py",
   "mimetype": "text/x-python",
   "name": "python",
   "nbconvert_exporter": "python",
   "pygments_lexer": "ipython3",
   "version": "3.11.1"
  },
  "vscode": {
   "interpreter": {
    "hash": "aa82987a71ca0339a52998cd22613b0c002bda8349fa32a0cb67ceec3936a2bf"
   }
  }
 },
 "nbformat": 4,
 "nbformat_minor": 2
}
